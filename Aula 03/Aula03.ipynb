{
 "cells": [
  {
   "cell_type": "markdown",
   "metadata": {},
   "source": [
    "# Recursividade\n",
    "Resolver um problema, reduzindo ele a uma versão menor dele mesmo.<br>\n",
    "Sabemos resolver intâncias pequenas do problema, não maiores.<br>"
   ]
  },
  {
   "cell_type": "code",
   "execution_count": 1,
   "metadata": {},
   "outputs": [],
   "source": [
    "def fatorial(n):\n",
    "    if n==0 or n==1:\n",
    "        return 1\n",
    "    else:\n",
    "        return n*fatorial(n-1)"
   ]
  },
  {
   "cell_type": "markdown",
   "metadata": {},
   "source": [
    "O ruim é que isso tem um custo a mais para a memória, pois a cada chamada de função é um estado completo que deve ser salvo na memória.\n",
    "Usando recursividade, o custo de tempo é n e o de memória tbm é n.\n",
    "Usando iteratividade, o custo de tempo é n e o de memória é 1."
   ]
  },
  {
   "cell_type": "markdown",
   "metadata": {},
   "source": [
    "#### Sequencia de Fibonatti \n",
    "0 1 ... A partir desse ponto cada número subsequente é a soma dos dois números anteriores.<br>\n",
    "0 1 1 2 3 5 8 13 ... <br>\n",
    "Caso base: 1 1 <br>\n",
    "Passo de indução: soma dos dois anterioes"
   ]
  },
  {
   "cell_type": "code",
   "execution_count": 2,
   "metadata": {},
   "outputs": [
    {
     "name": "stdout",
     "output_type": "stream",
     "text": [
      "610\n"
     ]
    }
   ],
   "source": [
    "def fibonacci(n):\n",
    "    fib = 0\n",
    "    if(n == 1 or n == 0):\n",
    "        return n\n",
    "    else:\n",
    "        return fibonacci(n-1)+fibonacci(n-2)\n",
    "\n",
    "print(fibonacci(15))"
   ]
  },
  {
   "cell_type": "markdown",
   "metadata": {},
   "source": [
    "#### Sistema de Busca\n",
    "- Busca sequencial\n",
    "- Busca Binária\n",
    "##### Busca Binária\n",
    "1. Olha no meio, achou? Se sim, ótimo, se não, o elemento está antes ou depois?\n",
    "2. Se antes, descarta o depois e repete o passo 1.\n",
    "4. Se depois, descarta o antes e repete o passo 1."
   ]
  }
 ],
 "metadata": {
  "interpreter": {
   "hash": "e07d22968ff489a7f5a1444947d29b60e9d767cb9c29377e1b5658203cc19182"
  },
  "kernelspec": {
   "display_name": "Python 3.9.12 64-bit (windows store)",
   "language": "python",
   "name": "python3"
  },
  "language_info": {
   "codemirror_mode": {
    "name": "ipython",
    "version": 3
   },
   "file_extension": ".py",
   "mimetype": "text/x-python",
   "name": "python",
   "nbconvert_exporter": "python",
   "pygments_lexer": "ipython3",
   "version": "3.9.12"
  },
  "orig_nbformat": 4
 },
 "nbformat": 4,
 "nbformat_minor": 2
}
