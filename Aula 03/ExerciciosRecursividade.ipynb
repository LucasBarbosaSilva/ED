{
 "cells": [
  {
   "cell_type": "markdown",
   "metadata": {},
   "source": [
    "1. Implemente uma função recursiva que, dados dois\n",
    "números inteiros x e n, calcule o valor de x.n"
   ]
  },
  {
   "cell_type": "code",
   "execution_count": 14,
   "metadata": {},
   "outputs": [],
   "source": [
    "def calculaMultiplicacao(x, n, c, m):\n",
    "    if(n+1 == c):\n",
    "        return m\n",
    "    else:\n",
    "        m = m + x\n",
    "        return calculaMultiplicacao(x, n, c+1, m)"
   ]
  },
  {
   "cell_type": "code",
   "execution_count": 16,
   "metadata": {},
   "outputs": [
    {
     "name": "stdout",
     "output_type": "stream",
     "text": [
      "A multiplicação de 10 por 5 é: 50\n"
     ]
    }
   ],
   "source": [
    "print(\"A multiplicação de 10 por 5 é:\", calculaMultiplicacao(10, 5, 1, 0))"
   ]
  },
  {
   "cell_type": "markdown",
   "metadata": {},
   "source": [
    "2. Implemente uma função recursiva que, dados dois\n",
    "números inteiros x e n, calcule o valor de x^n"
   ]
  },
  {
   "cell_type": "code",
   "execution_count": 11,
   "metadata": {},
   "outputs": [],
   "source": [
    "def calculaPotencia(x, n, c, p):\n",
    "    if(n+1 == c):\n",
    "        return p\n",
    "    else:\n",
    "        p = p*x\n",
    "        return calculaMultiplicacao(x, n, c+1, p)    "
   ]
  },
  {
   "cell_type": "code",
   "execution_count": 13,
   "metadata": {},
   "outputs": [
    {
     "name": "stdout",
     "output_type": "stream",
     "text": [
      "A potência de 10^5 é: 100000\n"
     ]
    }
   ],
   "source": [
    "print(\"A potência de 10^5 é:\", calculaMultiplicacao(10, 5, 1, 1))"
   ]
  },
  {
   "cell_type": "markdown",
   "metadata": {},
   "source": [
    "3. Implemente uma função recursiva que, dada uma lista\n",
    "de inteiros ordenada, busque por um valor"
   ]
  },
  {
   "cell_type": "code",
   "execution_count": 1,
   "metadata": {},
   "outputs": [],
   "source": [
    "def buscaBinaria(lista, inicio, fim, valor):\n",
    "    meio = (fim - inicio)//2\n",
    "    if(lista[meio] == valor):\n",
    "        return meio\n",
    "    elif(lista[meio] > valor):\n",
    "        fim  = meio - 1\n",
    "        return buscaBinaria(lista, inicio, fim, valor)\n",
    "    else:\n",
    "        inicio = meio + 1\n",
    "        return buscaBinaria(lista, inicio, fim, valor)"
   ]
  },
  {
   "cell_type": "code",
   "execution_count": null,
   "metadata": {},
   "outputs": [],
   "source": [
    "list = [1,2,3,4,5,6,7,8,9,10]\n",
    "print(\"O valor 4 está na posição\", buscaBinaria(list, 0, len(list)-1, 4))"
   ]
  }
 ],
 "metadata": {
  "interpreter": {
   "hash": "f7e022b67859ae4a791bbcc1c75bde8b3a5bef3b9abb0060fdb4399d638fb2f6"
  },
  "kernelspec": {
   "display_name": "Python 3.9.12 64-bit",
   "language": "python",
   "name": "python3"
  },
  "language_info": {
   "codemirror_mode": {
    "name": "ipython",
    "version": 3
   },
   "file_extension": ".py",
   "mimetype": "text/x-python",
   "name": "python",
   "nbconvert_exporter": "python",
   "pygments_lexer": "ipython3",
   "version": "3.9.12"
  },
  "orig_nbformat": 4
 },
 "nbformat": 4,
 "nbformat_minor": 2
}
