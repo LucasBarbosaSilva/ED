{
 "cells": [
  {
   "cell_type": "markdown",
   "metadata": {},
   "source": [
    "1. Em um trabalho escolar, um professor de matemática pediu para que os alunos escrevessem\n",
    "expressões aritméticas de forma a exercitar tal conteúdo. Em sala de aula foi dito que uma expressão\n",
    "aritmética bem formada obedece as seguintes exigências:\n",
    "\n",
    "- todo parênteses, colchetes ou chaves que for aberto deve ser fechado;\n",
    "- nenhum parênteses, colchetes ou chaves pode ser fechado sem antes ter sido aberto;\n",
    "- deve haver correspondência na ordem de abertura e fechamento de parênteses, colchetes ou chaves.\n",
    "\n",
    "Escreva um programa que recebe como entrada uma expressão aritmética e imprime “sim” se a\n",
    "expressão estiver correta e “não” caso contrário. Você pode assumir que os operadores e operandos\n",
    "estão escritos corretamente, pois o objetivo é verificar a abertura e fechamento de colchetes, parênteses\n",
    "e chaves. Implemente a estrutura de dados pilha da forma mais adequada para resolver o problema."
   ]
  },
  {
   "cell_type": "code",
   "execution_count": 11,
   "metadata": {},
   "outputs": [],
   "source": [
    "class Objeto:\n",
    "    valor = None\n",
    "    proximo = None\n",
    "    def __init__(self, valor):\n",
    "        self.valor = valor"
   ]
  },
  {
   "cell_type": "code",
   "execution_count": 12,
   "metadata": {},
   "outputs": [],
   "source": [
    "class PilhaEncadeada:\n",
    "    topo = None\n",
    "    tamanho = 0\n",
    "\n",
    "    def empilha(self, item):\n",
    "        item.proximo = self.topo\n",
    "        self.topo = item\n",
    "        self.tamanho = self.tamanho + 1\n",
    "\n",
    "    def desempilha(self):\n",
    "        if(self.tamanho > 0):\n",
    "            #pegar o atual\n",
    "            atual = self.topo\n",
    "            #substituir o topo pelo proximo do atual\n",
    "            self.topo = atual.proximo\n",
    "            #decrementa o tamanho\n",
    "            self.tamanho = self.tamanho - 1\n",
    "            #retorna o item desempilhado\n",
    "            return atual\n",
    "        else:\n",
    "            return \"Vazio\"\n",
    "\n",
    "    def estaVazia(self):\n",
    "        return True if self.tamanho == 0 else False\n",
    "\n",
    "    def tamanhoPilha(self):\n",
    "        return self.tamanho"
   ]
  },
  {
   "cell_type": "code",
   "execution_count": 13,
   "metadata": {},
   "outputs": [],
   "source": [
    "def validaFormula(string):\n",
    "    pilhaParenteses = PilhaEncadeada()\n",
    "    pilhaColchetes = PilhaEncadeada()\n",
    "    pilhaChaves = PilhaEncadeada()\n",
    "    for x in string:\n",
    "        letra = Objeto(x)\n",
    "        if(letra.valor == \"(\"):\n",
    "            pilhaParenteses.empilha(letra)\n",
    "        elif(letra.valor == \")\"):\n",
    "            if(pilhaParenteses.desempilha() == \"Vazio\"):\n",
    "                return \"não\"\n",
    "        elif(letra.valor == \"[\"):\n",
    "            pilhaColchetes.empilha(letra)\n",
    "        elif(letra.valor == \"]\"):\n",
    "            if(pilhaColchetes.desempilha() == \"Vazio\"):\n",
    "                return \"não\"\n",
    "        elif(letra.valor == \"{\"):\n",
    "            pilhaChaves.empilha(letra)\n",
    "        elif(letra.valor == \"}\"):\n",
    "            if(pilhaChaves.desempilha() == \"Vazio\"):\n",
    "                return \"não\"\n",
    "\n",
    "    if(pilhaChaves.estaVazia() and pilhaColchetes.estaVazia() and pilhaParenteses.estaVazia()):\n",
    "        return \"sim\"\n",
    "    else:\n",
    "        return \"não\""
   ]
  },
  {
   "cell_type": "code",
   "execution_count": 17,
   "metadata": {},
   "outputs": [
    {
     "name": "stdout",
     "output_type": "stream",
     "text": [
      "sim\n"
     ]
    }
   ],
   "source": [
    "entrada = input()\n",
    "\n",
    "print(validaFormula(entrada))"
   ]
  },
  {
   "cell_type": "markdown",
   "metadata": {},
   "source": [
    "2. Problema dos palíndromos. Um palíndromo é uma palavra ou frase que mantém o mesmo sentido\n",
    "quando lida de trás para frente. Palíndromos estão muito presentes na literatura e na publicidade, porque\n",
    "são palavras fáceis de memorizar. Exemplos de palavras palíndromas são arara, asa, osso, radar, reger,\n",
    "ralar, reviver, somávamos etc. Exemplos de nomes de pessoas que são palíndromos: Ada, Ana, Bob,\n",
    "Natan, Renner, Mussum, entre outros. Escreva um programa que recebe como entrada uma string que\n",
    "representa uma palavra e imprima na tela “sim” se a palavra é um palíndromo e “não” caso contrário.\n",
    "Você deve utilizar uma das estruturas de dados pilha para implementar esse programa."
   ]
  },
  {
   "cell_type": "code",
   "execution_count": 33,
   "metadata": {},
   "outputs": [
    {
     "name": "stdout",
     "output_type": "stream",
     "text": [
      "sim\n"
     ]
    }
   ],
   "source": [
    "def validaPalindrono(palavra):\n",
    "    pilha = PilhaEncadeada()\n",
    "    palavra = palavra.replace(\" \", \"\").lower()\n",
    "    tamanho = len(palavra)\n",
    "    if(tamanho % 2 == 1):\n",
    "        meio = palavra[tamanho//2]\n",
    "        palavra = palavra.replace(meio, \"\")\n",
    "    metade = len(palavra)//2\n",
    "    for x in range(0, metade):\n",
    "        letra = Objeto(palavra[x])\n",
    "        pilha.empilha(letra)\n",
    "    for x in range(metade, len(palavra)):\n",
    "        letra = pilha.desempilha()\n",
    "        if(letra.valor != palavra[x]):\n",
    "            return \"não\"\n",
    "    return \"sim\"\n",
    "\n",
    "entrada = input()\n",
    "\n",
    "print(validaPalindrono(entrada))"
   ]
  }
 ],
 "metadata": {
  "interpreter": {
   "hash": "1588a5ec7667da73cb7ddf1e244910aef61d01e108c87648b4f30d43bb6c169a"
  },
  "kernelspec": {
   "display_name": "Python 3.10.4 64-bit",
   "language": "python",
   "name": "python3"
  },
  "language_info": {
   "codemirror_mode": {
    "name": "ipython",
    "version": 3
   },
   "file_extension": ".py",
   "mimetype": "text/x-python",
   "name": "python",
   "nbconvert_exporter": "python",
   "pygments_lexer": "ipython3",
   "version": "3.10.4"
  },
  "orig_nbformat": 4
 },
 "nbformat": 4,
 "nbformat_minor": 2
}
