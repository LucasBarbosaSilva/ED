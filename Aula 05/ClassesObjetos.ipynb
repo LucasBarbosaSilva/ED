{
 "cells": [
  {
   "cell_type": "markdown",
   "metadata": {},
   "source": [
    "## Classes e Objetos\n",
    "POO\n",
    "Classes e Objetos\n",
    "Atributos de entidades\n",
    "Tem atributos que podem ser outras classes/entidades.\n"
   ]
  },
  {
   "cell_type": "code",
   "execution_count": 29,
   "metadata": {},
   "outputs": [],
   "source": [
    "VALOR_REFEICAO = 3"
   ]
  },
  {
   "cell_type": "code",
   "execution_count": 30,
   "metadata": {},
   "outputs": [],
   "source": [
    "class Usuario:\n",
    "    nome = ''\n",
    "    matricula = \"23423423\"\n",
    "    tipo = ''\n",
    "    saldo = 0\n",
    "\n",
    "    def __init__(self, nome, matricula, tipo, saldo):\n",
    "        self.nome = nome\n",
    "        self.matricula = matricula\n",
    "        self.tipo = tipo\n",
    "        self.saldo = saldo\n",
    "\n",
    "    def __str__(self):\n",
    "        return 'nome: '+self.nome+' matricula: '+str(self.matricula)\n",
    "\n",
    "    def getSaldo(self):\n",
    "        return self.saldo\n",
    "    \n",
    "    def adicionarSaldo(self, valor):\n",
    "        self.saldo = self.saldo+valor\n",
    "        \n",
    "\n",
    "    def comprarRefeicao(self):\n",
    "        if self.saldo >= VALOR_REFEICAO:\n",
    "            self.saldo -= VALOR_REFEICAO\n",
    "        else:\n",
    "            print(\"Não já saldo suficiente na conta\")"
   ]
  },
  {
   "cell_type": "code",
   "execution_count": 32,
   "metadata": {},
   "outputs": [],
   "source": [
    "usuario1 = Usuario(\"Lucas\", \"adasd\", \"Dev\", 0)"
   ]
  },
  {
   "cell_type": "code",
   "execution_count": 33,
   "metadata": {},
   "outputs": [
    {
     "name": "stdout",
     "output_type": "stream",
     "text": [
      "nome: Lucas matricula: adasd\n"
     ]
    }
   ],
   "source": [
    "usuario1.nome = \"Lucas\"\n",
    "print(usuario1)"
   ]
  },
  {
   "cell_type": "markdown",
   "metadata": {},
   "source": [
    "#### Tarefa:\n",
    "Brincar de Orientação a Objetos"
   ]
  },
  {
   "cell_type": "markdown",
   "metadata": {},
   "source": [
    "### Pilhas\n",
    "\n",
    "LIFO -> Last In First Out (\"Os últimos serão os primeiros\")<br>\n",
    "Exemplo: compiladores executando um método recursivo.<br>\n",
    "\n",
    "##### Arranjos\n",
    "Utiliza o vetor para armazenar; <br>\n",
    "Manipulações em uma das extremidades do vetor.<br>"
   ]
  },
  {
   "cell_type": "code",
   "execution_count": null,
   "metadata": {},
   "outputs": [],
   "source": [
    "print()"
   ]
  },
  {
   "cell_type": "code",
   "execution_count": null,
   "metadata": {},
   "outputs": [],
   "source": []
  }
 ],
 "metadata": {
  "interpreter": {
   "hash": "e07d22968ff489a7f5a1444947d29b60e9d767cb9c29377e1b5658203cc19182"
  },
  "kernelspec": {
   "display_name": "Python 3.9.12 64-bit (windows store)",
   "language": "python",
   "name": "python3"
  },
  "language_info": {
   "codemirror_mode": {
    "name": "ipython",
    "version": 3
   },
   "file_extension": ".py",
   "mimetype": "text/x-python",
   "name": "python",
   "nbconvert_exporter": "python",
   "pygments_lexer": "ipython3",
   "version": "3.9.12"
  },
  "orig_nbformat": 4
 },
 "nbformat": 4,
 "nbformat_minor": 2
}
