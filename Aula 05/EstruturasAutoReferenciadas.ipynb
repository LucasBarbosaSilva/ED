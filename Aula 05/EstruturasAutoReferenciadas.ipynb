{
 "cells": [
  {
   "cell_type": "markdown",
   "metadata": {},
   "source": [
    "## Estruturas Auto-referenciadas\n",
    "### Ponteiros\n",
    "Estruturas qeu não alocam um tamanho fixo na memória. Vai alocando 1 ou desalocando a medida que for preciso."
   ]
  },
  {
   "cell_type": "code",
   "execution_count": 11,
   "metadata": {},
   "outputs": [],
   "source": [
    "class Celula:\n",
    "    item = None\n",
    "    proximo = None\n",
    "\n",
    "    def __init__(self, item):\n",
    "        self.item = item"
   ]
  },
  {
   "cell_type": "code",
   "execution_count": 12,
   "metadata": {},
   "outputs": [],
   "source": [
    "class Pilha:\n",
    "    topo = None\n",
    "    tamanho = 0\n",
    "\n",
    "    def inserir(self, item):\n",
    "        #criar Celula\n",
    "        celula = Celula(item)\n",
    "        #Aponta pro topo anterior\n",
    "        celula.proximo = self.topo\n",
    "        #Atualiza o topo\n",
    "        self.topo = celula\n",
    "        #Aumenta o tamanho da Pilha\n",
    "        self.tamanho +=1\n",
    "\n",
    "    def remover(self):\n",
    "        if(self.tamanho != 0):\n",
    "            aux = self.topo\n",
    "            \n",
    "            \n",
    "        else:\n",
    "            print(\"Pilha vazia\")\n",
    "\n",
    "        \n",
    "\n",
    "    def imprimir(self):\n",
    "        aux = self.topo\n",
    "        while(aux != None):\n",
    "            print(aux.item)\n",
    "            aux = aux.proximo"
   ]
  },
  {
   "cell_type": "code",
   "execution_count": 13,
   "metadata": {},
   "outputs": [
    {
     "ename": "TypeError",
     "evalue": "__init__() missing 1 required positional argument: 'item'",
     "output_type": "error",
     "traceback": [
      "\u001b[1;31m---------------------------------------------------------------------------\u001b[0m",
      "\u001b[1;31mTypeError\u001b[0m                                 Traceback (most recent call last)",
      "\u001b[1;32md:\\UFAL\\ED\\Aula 05\\EstruturasAutoReferenciadas.ipynb Cell 4'\u001b[0m in \u001b[0;36m<cell line: 1>\u001b[1;34m()\u001b[0m\n\u001b[1;32m----> <a href='vscode-notebook-cell:/d%3A/UFAL/ED/Aula%2005/EstruturasAutoReferenciadas.ipynb#ch0000002?line=0'>1</a>\u001b[0m c1 \u001b[39m=\u001b[39m Celula()\n",
      "\u001b[1;31mTypeError\u001b[0m: __init__() missing 1 required positional argument: 'item'"
     ]
    }
   ],
   "source": [
    "c1 = Celula()"
   ]
  },
  {
   "cell_type": "code",
   "execution_count": null,
   "metadata": {},
   "outputs": [],
   "source": [
    "pilha = Pilha()"
   ]
  },
  {
   "cell_type": "code",
   "execution_count": 14,
   "metadata": {},
   "outputs": [],
   "source": [
    "item = Celula(10)"
   ]
  },
  {
   "cell_type": "code",
   "execution_count": 18,
   "metadata": {},
   "outputs": [],
   "source": [
    "pilha.inserir((1, 'Lucas'))\n",
    "pilha.inserir((2, 'Débora'))\n",
    "pilha.inserir((3, 'Cayo'))\n",
    "pilha.inserir((4, 'Carlos'))"
   ]
  },
  {
   "cell_type": "code",
   "execution_count": 21,
   "metadata": {},
   "outputs": [
    {
     "ename": "AttributeError",
     "evalue": "'NoneType' object has no attribute 'item'",
     "output_type": "error",
     "traceback": [
      "\u001b[1;31m---------------------------------------------------------------------------\u001b[0m",
      "\u001b[1;31mAttributeError\u001b[0m                            Traceback (most recent call last)",
      "\u001b[1;32md:\\UFAL\\ED\\Aula 05\\EstruturasAutoReferenciadas.ipynb Cell 8'\u001b[0m in \u001b[0;36m<cell line: 1>\u001b[1;34m()\u001b[0m\n\u001b[1;32m----> <a href='vscode-notebook-cell:/d%3A/UFAL/ED/Aula%2005/EstruturasAutoReferenciadas.ipynb#ch0000015?line=0'>1</a>\u001b[0m \u001b[39mprint\u001b[39m(pilha\u001b[39m.\u001b[39;49mtopo\u001b[39m.\u001b[39;49mitem)\n",
      "\u001b[1;31mAttributeError\u001b[0m: 'NoneType' object has no attribute 'item'"
     ]
    }
   ],
   "source": [
    "print(pilha.topo.item)"
   ]
  },
  {
   "cell_type": "code",
   "execution_count": 20,
   "metadata": {},
   "outputs": [],
   "source": [
    "pilha.remover()"
   ]
  },
  {
   "cell_type": "code",
   "execution_count": null,
   "metadata": {},
   "outputs": [],
   "source": [
    "print"
   ]
  }
 ],
 "metadata": {
  "interpreter": {
   "hash": "ef13383ec38d15b26efa9e50f0d81acff45eb8a4f0ee44d42146d760bf1b0c37"
  },
  "kernelspec": {
   "display_name": "Python 3.9.12 64-bit (windows store)",
   "language": "python",
   "name": "python3"
  },
  "language_info": {
   "codemirror_mode": {
    "name": "ipython",
    "version": 3
   },
   "file_extension": ".py",
   "mimetype": "text/x-python",
   "name": "python",
   "nbconvert_exporter": "python",
   "pygments_lexer": "ipython3",
   "version": "3.9.13"
  },
  "orig_nbformat": 4
 },
 "nbformat": 4,
 "nbformat_minor": 2
}
