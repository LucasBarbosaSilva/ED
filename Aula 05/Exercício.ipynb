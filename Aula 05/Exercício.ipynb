{
 "cells": [
  {
   "cell_type": "markdown",
   "id": "3e010a61",
   "metadata": {},
   "source": [
    "## Exercícios Pilhas"
   ]
  },
  {
   "cell_type": "markdown",
   "id": "3075321a",
   "metadata": {},
   "source": [
    "### 1. Você está implementando um navegador web. Dentro das várias funcionalidades a serem implementadas, uma delas é o histórico de navegação, que permite ao usuário poder voltar para páginas já vistas. Crie uma função python para implementar essa funcionalidade."
   ]
  },
  {
   "cell_type": "code",
   "execution_count": 29,
   "id": "bb73844c",
   "metadata": {},
   "outputs": [],
   "source": [
    "class Pagina():\n",
    "    endereco = None\n",
    "    proximo = None\n",
    "\n",
    "    def __init__(self, endereco):\n",
    "        self.endereco = endereco"
   ]
  },
  {
   "cell_type": "code",
   "execution_count": 69,
   "id": "a7d1b7cf",
   "metadata": {},
   "outputs": [],
   "source": [
    "class Pilha():\n",
    "    topo = None\n",
    "    tamanho = 0\n",
    "\n",
    "    def inserir(self, pagina):\n",
    "        aux = self.topo\n",
    "        self.topo = pagina\n",
    "        pagina.proximo = aux\n",
    "        self.tamanho+=1\n",
    "\n",
    "    def voltar(self):\n",
    "        self.tamanho-=1\n",
    "        if(self.tamanho > 0):\n",
    "            proximo = self.topo.proximo\n",
    "            self.topo = proximo\n",
    "            print(\"Indo \", self.topo.endereco)\n",
    "\n",
    "    def getTopo(self):\n",
    "        return self.topo\n",
    "\n",
    "    def isEmpty(self):\n",
    "        return True if self.tamanho == 0 else False"
   ]
  },
  {
   "cell_type": "code",
   "execution_count": 70,
   "id": "519df546",
   "metadata": {},
   "outputs": [],
   "source": [
    "pilha = Pilha()"
   ]
  },
  {
   "cell_type": "code",
   "execution_count": 71,
   "id": "219e91b7",
   "metadata": {},
   "outputs": [
    {
     "name": "stdout",
     "output_type": "stream",
     "text": [
      "(5, 'Netflix')\n"
     ]
    }
   ],
   "source": [
    "pilha.inserir(Pagina((1, \"Google\")))\n",
    "pilha.inserir(Pagina((2, \"Globo\")))\n",
    "pilha.inserir(Pagina((3, \"Magazine\")))\n",
    "pilha.inserir(Pagina((4, \"Amazon\")))\n",
    "pilha.inserir(Pagina((5, \"Netflix\")))\n",
    "print(pilha.topo.endereco)"
   ]
  },
  {
   "cell_type": "code",
   "execution_count": 72,
   "id": "395a34ae",
   "metadata": {},
   "outputs": [
    {
     "name": "stdout",
     "output_type": "stream",
     "text": [
      "Indo  (4, 'Amazon')\n",
      "Indo  (3, 'Magazine')\n",
      "Indo  (2, 'Globo')\n",
      "Indo  (1, 'Google')\n"
     ]
    }
   ],
   "source": [
    "pilha.voltar()\n",
    "pilha.voltar()\n",
    "pilha.voltar()\n",
    "pilha.voltar()\n",
    "pilha.voltar()"
   ]
  },
  {
   "cell_type": "code",
   "execution_count": 73,
   "id": "a3a2e58f",
   "metadata": {},
   "outputs": [
    {
     "data": {
      "text/plain": [
       "0"
      ]
     },
     "execution_count": 73,
     "metadata": {},
     "output_type": "execute_result"
    }
   ],
   "source": [
    "pilha.tamanho"
   ]
  },
  {
   "cell_type": "markdown",
   "id": "91004572",
   "metadata": {},
   "source": [
    "### 2. Você está implementando um sistema de controle de empilhadeira, que vai recebendo itens e empilhando estes itens. Cada item tem um peso associado, de modo que você não pode colocar um item maior em cima de um item menor. Implemente um programa que recebe uma lista de itens e seus pesos e retorna a pilha de itens, obedecendo a regra. Você pode utilizar no máximo duas pilhas para resolver o problema."
   ]
  },
  {
   "cell_type": "code",
   "execution_count": 74,
   "id": "fff5a4e7",
   "metadata": {},
   "outputs": [],
   "source": [
    "class Item():\n",
    "    peso = -1\n",
    "    proximo = None\n",
    "\n",
    "    def __init__(self, peso):\n",
    "        self.peso = peso\n",
    "        "
   ]
  },
  {
   "cell_type": "code",
   "execution_count": 75,
   "id": "182d5f91",
   "metadata": {},
   "outputs": [],
   "source": [
    "pilha_ordenada = Pilha()\n",
    "pilha_aux = Pilha()"
   ]
  },
  {
   "cell_type": "code",
   "execution_count": 77,
   "id": "8cd07df0",
   "metadata": {},
   "outputs": [],
   "source": [
    "itens = [Item(10), Item(15), Item(20)]\n",
    "pilha_ordenada.inserir(itens[0])\n",
    "for x in range(1, len(itens)):\n",
    "    while pilha_ordenada.topo.peso < itens[x].peso:\n",
    "         "
   ]
  },
  {
   "cell_type": "code",
   "execution_count": null,
   "id": "ba8d4e7d",
   "metadata": {},
   "outputs": [],
   "source": []
  }
 ],
 "metadata": {
  "interpreter": {
   "hash": "ef13383ec38d15b26efa9e50f0d81acff45eb8a4f0ee44d42146d760bf1b0c37"
  },
  "kernelspec": {
   "display_name": "Python 3.9.12 64-bit (windows store)",
   "language": "python",
   "name": "python3"
  },
  "language_info": {
   "codemirror_mode": {
    "name": "ipython",
    "version": 3
   },
   "file_extension": ".py",
   "mimetype": "text/x-python",
   "name": "python",
   "nbconvert_exporter": "python",
   "pygments_lexer": "ipython3",
   "version": "3.9.13"
  }
 },
 "nbformat": 4,
 "nbformat_minor": 5
}
