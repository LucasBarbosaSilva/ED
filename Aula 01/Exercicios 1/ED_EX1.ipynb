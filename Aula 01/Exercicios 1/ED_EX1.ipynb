{
  "nbformat": 4,
  "nbformat_minor": 0,
  "metadata": {
    "colab": {
      "name": "ED-EX1.ipynb",
      "provenance": [],
      "collapsed_sections": []
    },
    "kernelspec": {
      "name": "python3",
      "display_name": "Python 3"
    },
    "language_info": {
      "name": "python"
    }
  },
  "cells": [
    {
      "cell_type": "markdown",
      "source": [
        "1. Contar o número de elementos negativos em um conjunto"
      ],
      "metadata": {
        "id": "5ltJQU1NWjl8"
      }
    },
    {
      "cell_type": "code",
      "execution_count": null,
      "metadata": {
        "colab": {
          "base_uri": "https://localhost:8080/"
        },
        "id": "TNo1j5wJVDDh",
        "outputId": "4e53acec-7b93-461a-98ed-4a5c12a8daf1"
      },
      "outputs": [
        {
          "output_type": "stream",
          "name": "stdout",
          "text": [
            "Informe o conjunto de números: 1 3 02 -4 -4 2 -4 -3 2 4 7 34\n",
            "Quantidade de números negativos é: 4\n"
          ]
        }
      ],
      "source": [
        "conjunto = [float(x) for x in input(\"Informe o conjunto de números: \").split()]\n",
        "\n",
        "def quantidadeNegativos(conj):\n",
        "    cont = 0\n",
        "    for x in conj:\n",
        "        if x < 0:\n",
        "            cont+=1\n",
        "    return cont\n",
        "\n",
        "print(\"Quantidade de números negativos é:\", quantidadeNegativos(conjunto)) "
      ]
    },
    {
      "cell_type": "markdown",
      "source": [
        "Função de custo: f(n) = n"
      ],
      "metadata": {
        "id": "le1msB7jaGhK"
      }
    },
    {
      "cell_type": "markdown",
      "source": [
        "2. Identificar os valores de um conjunto que estão abaixo da\n",
        "média do conjunto"
      ],
      "metadata": {
        "id": "qZOObRT3Z6JV"
      }
    },
    {
      "cell_type": "code",
      "source": [
        "continua = True\n",
        "soma = 0\n",
        "elementos = []\n",
        "while (continua):\n",
        "    ele = float(input(\"Informe um elemento: \"))\n",
        "    soma += ele\n",
        "    elementos.append(ele)\n",
        "    resp = input(\"Deseja informar mais algum elemento? (S/N) \")\n",
        "    if(resp.lower() == 'n' ):\n",
        "        continua = False\n",
        "media = soma / len(elementos)\n",
        "print(\"A media do conjunto é:\", media)\n",
        "\n",
        "def verificaAbaixoMedia(m, elem):\n",
        "    for x in elem:\n",
        "        if(x < m):\n",
        "            print(x,\"está abaixo da média do conjunto\")\n",
        "\n",
        "verificaAbaixoMedia(media, elementos)"
      ],
      "metadata": {
        "colab": {
          "base_uri": "https://localhost:8080/"
        },
        "id": "ELj1e1-lZ2e3",
        "outputId": "08e6e75d-a1e0-41c7-b642-1d9d4469fbae"
      },
      "execution_count": null,
      "outputs": [
        {
          "output_type": "stream",
          "name": "stdout",
          "text": [
            "Informe um elemento: 3\n",
            "Deseja informar mais algum elemento? (S/N) s\n",
            "Informe um elemento: 2\n",
            "Deseja informar mais algum elemento? (S/N) 5\n",
            "Informe um elemento: 3\n",
            "Deseja informar mais algum elemento? (S/N) s\n",
            "Informe um elemento: 78\n",
            "Deseja informar mais algum elemento? (S/N) s\n",
            "Informe um elemento: 64\n",
            "Deseja informar mais algum elemento? (S/N) s\n",
            "Informe um elemento: 38\n",
            "Deseja informar mais algum elemento? (S/N) n\n",
            "A media do conjunto é: 31.333333333333332\n",
            "3.0 está abaixo da média do conjunto\n",
            "2.0 está abaixo da média do conjunto\n",
            "3.0 está abaixo da média do conjunto\n"
          ]
        }
      ]
    },
    {
      "cell_type": "markdown",
      "source": [
        "Função do conjunto: f(n) = n"
      ],
      "metadata": {
        "id": "xM_qkEtaZ7hE"
      }
    },
    {
      "cell_type": "markdown",
      "source": [
        "3. Calcular o fatorial de um número"
      ],
      "metadata": {
        "id": "-07EpbbmQj5o"
      }
    },
    {
      "cell_type": "code",
      "source": [
        "def calculaFatorial(num):\n",
        "    global fatorial\n",
        "    if(not(num-1 == 0)):\n",
        "        fatorial = fatorial * (num-1)\n",
        "        calculaFatorial(num-1)\n",
        "    return fatorial\n",
        "\n",
        "n = int(input(\"Informe o número: \"))\n",
        "fatorial = n\n",
        "print(\"O fatorial do número\", n,\"é:\"+ str(calculaFatorial(n)))"
      ],
      "metadata": {
        "colab": {
          "base_uri": "https://localhost:8080/"
        },
        "id": "zy8VJpNHQk0g",
        "outputId": "2399c695-8b3d-40ac-fdeb-a71208cd327d"
      },
      "execution_count": null,
      "outputs": [
        {
          "output_type": "stream",
          "name": "stdout",
          "text": [
            "Informe o número: 10\n",
            "O fatorial do número 10 é:3628800\n"
          ]
        }
      ]
    },
    {
      "cell_type": "markdown",
      "source": [
        "Função de custo: f(n) = n"
      ],
      "metadata": {
        "id": "jVopM_LgQn89"
      }
    },
    {
      "cell_type": "markdown",
      "source": [
        "4. Identificar a soma máxima entre dois elementos de um\n",
        "conjunto\n"
      ],
      "metadata": {
        "id": "Zn3fkRkOSx84"
      }
    },
    {
      "cell_type": "code",
      "source": [
        "def calculaMaiorSoma():\n",
        "    encerrou = False\n",
        "    segundoMaior = 0\n",
        "    primeiroMaior = 0\n",
        "    while (not(encerrou)):\n",
        "        n = int(input(\"Informe um número: \"))\n",
        "        if (n > primeiroMaior):\n",
        "            segundoMaior = primeiroMaior\n",
        "            primeiroMaior = n\n",
        "        elif (n > segundoMaior):\n",
        "            segundoMaior = n\n",
        "        resp = input(\"Deseja informar mais um número? (s/n)\")\n",
        "        encerrou = True if (resp.lower() == 'n') else False  \n",
        "    return (primeiroMaior + segundoMaior)          \n",
        "\n",
        "print(\"A maior soma desse conjunto é:\", calculaMaiorSoma())"
      ],
      "metadata": {
        "colab": {
          "base_uri": "https://localhost:8080/"
        },
        "id": "tGHfSe5pTCjq",
        "outputId": "604e4a26-1749-4127-d142-294e967fc843"
      },
      "execution_count": null,
      "outputs": [
        {
          "output_type": "stream",
          "name": "stdout",
          "text": [
            "Informe um número: 5\n",
            "Deseja informar mais um número? (s/n)s\n",
            "Informe um número: 78\n",
            "Deseja informar mais um número? (s/n)s\n",
            "Informe um número: 56\n",
            "Deseja informar mais um número? (s/n)s\n",
            "Informe um número: 100\n",
            "Deseja informar mais um número? (s/n)n\n",
            "A maior soma desse conjunto é: 178\n"
          ]
        }
      ]
    },
    {
      "cell_type": "markdown",
      "source": [
        "Função de custo: f(n) = n"
      ],
      "metadata": {
        "id": "BFozyLsGTDA4"
      }
    },
    {
      "cell_type": "markdown",
      "source": [
        "5. Copiar uma lista de inteiros, retirando elementos repetidos"
      ],
      "metadata": {
        "id": "7P9EpzSFQque"
      }
    },
    {
      "cell_type": "code",
      "source": [
        "listaRepetidos = [int(x) for x in input().split()]\n",
        "def retiraRepetidos(lista):\n",
        "    listaUnicos = []\n",
        "    for x in lista:\n",
        "        if (not(x in listaUnicos)):\n",
        "            listaUnicos.append(x)\n",
        "    return listaUnicos\n",
        "\n",
        "print(retiraRepetidos(listaRepetidos))"
      ],
      "metadata": {
        "id": "nb5lsvn1Qxm2"
      },
      "execution_count": null,
      "outputs": []
    },
    {
      "cell_type": "markdown",
      "source": [
        "Função de custo: f(n) = n"
      ],
      "metadata": {
        "id": "XVj7bXzgSULo"
      }
    },
    {
      "cell_type": "markdown",
      "source": [
        "6. Algoritmo que recebe duas listas e imprime a\n",
        "intersecção das duas listas"
      ],
      "metadata": {
        "id": "k-1o7YLAFdP6"
      }
    },
    {
      "cell_type": "code",
      "source": [
        "lista1 = set([x for x in input(\"Digite os elementos da lista 1: \").split()])\n",
        "lista2 = set([x for x in input(\"Digite os elementos da lista 2: \").split()])\n",
        "\n",
        "def interseccao(l1, l2):\n",
        "    interseccao = []\n",
        "    for x in l1:\n",
        "        if (x in l2):\n",
        "            interseccao.append(x)\n",
        "    return interseccao\n",
        "\n",
        "print(\"A intersecção das listas é: \", interseccao(lista1, lista2))"
      ],
      "metadata": {
        "colab": {
          "base_uri": "https://localhost:8080/"
        },
        "id": "hpE_eRp-HSaw",
        "outputId": "faa152a7-073c-4b68-daef-44ef203797fe"
      },
      "execution_count": null,
      "outputs": [
        {
          "output_type": "stream",
          "name": "stdout",
          "text": [
            "Digite os elementos da lista 1: 2 3 4 3 2 4 3 5 2 6 2 e 43 t e e \n",
            "Digite os elementos da lista 2: 2 4 5 3 5 3 4 3 e 43 r q t\n",
            "A intersecção das listas é:  ['43', '5', '2', 't', '3', 'e', '4']\n"
          ]
        }
      ]
    },
    {
      "cell_type": "markdown",
      "source": [
        "Função de custo: f(n, m) = n + m + n*m"
      ],
      "metadata": {
        "id": "K1Qah8TOHX2j"
      }
    },
    {
      "cell_type": "markdown",
      "source": [
        "7. Algoritmo que tenta quebrar uma senha de\n",
        "quatro dígitos numéricos"
      ],
      "metadata": {
        "id": "w8LyrMZKH8jJ"
      }
    },
    {
      "cell_type": "markdown",
      "source": [
        "Utilizando a aleatoriedade:"
      ],
      "metadata": {
        "id": "vowhbxq1Zg65"
      }
    },
    {
      "cell_type": "code",
      "source": [
        "import random as r\n",
        "import math\n",
        "\n",
        "d1 = str(math.floor(r.random() * 10))\n",
        "d2 = str(math.floor(r.random() * 10))\n",
        "d3 = str(math.floor(r.random() * 10))\n",
        "d4 = str(math.floor(r.random() * 10))\n",
        "\n",
        "senhaCorreta = d1+d2+d3+d4\n",
        "senhaEncontrada = '0000'\n",
        "tentativas = 1\n",
        "while(senhaEncontrada != senhaCorreta):\n",
        "    tentativas += 1\n",
        "    d1 = str(math.floor(r.random() * 10))\n",
        "    d2 = str(math.floor(r.random() * 10))\n",
        "    d3 = str(math.floor(r.random() * 10))\n",
        "    d4 = str(math.floor(r.random() * 10)) \n",
        "    senhaEncontrada = d1+d2+d3+d4\n",
        "\n",
        "print(\"A senha era: \", senhaCorreta)\n",
        "print(\"Quantidade de tentativas: \", tentativas)"
      ],
      "metadata": {
        "colab": {
          "base_uri": "https://localhost:8080/"
        },
        "id": "Z9iiGSm7IDIh",
        "outputId": "013077d2-4958-4211-f205-c065101e0cc3"
      },
      "execution_count": 2,
      "outputs": [
        {
          "output_type": "stream",
          "name": "stdout",
          "text": [
            "A senha era:  6824\n",
            "Quantidade de tentativas:  31683\n"
          ]
        }
      ]
    },
    {
      "cell_type": "markdown",
      "source": [
        "Testando tentativa por tentativa:"
      ],
      "metadata": {
        "id": "bYf5faWOZqDn"
      }
    },
    {
      "cell_type": "code",
      "source": [
        "import random as r\n",
        "import math\n",
        "\n",
        "d1 = str(math.floor(r.random() * 10))\n",
        "d2 = str(math.floor(r.random() * 10))\n",
        "d3 = str(math.floor(r.random() * 10))\n",
        "d4 = str(math.floor(r.random() * 10))\n",
        "\n",
        "senhaCorreta = d1+d2+d3+d4\n",
        "\n",
        "def quebraSenha():\n",
        "  global senhaCorreta\n",
        "  senhaEncontrada = '0000'\n",
        "  tentativas = 0\n",
        "  for a in range(0, 10):\n",
        "    for b in range(0, 10):\n",
        "      for c in range(0, 10):\n",
        "        for d in range(0, 10):\n",
        "          tentativas += 1 \n",
        "          senhaEncontrada = str(a)+str(b)+str(c)+str(d)\n",
        "          if(senhaEncontrada == senhaCorreta):\n",
        "            return senhaEncontrada, tentativas\n",
        "senha, numTentativas = quebraSenha()\n",
        "print(\"A senha era: %s \\nQuantidade de tentativas: %d\" %(senha, numTentativas))"
      ],
      "metadata": {
        "colab": {
          "base_uri": "https://localhost:8080/"
        },
        "id": "uqtMpTpPZvLM",
        "outputId": "e822919b-0726-4b4e-84a5-b9d0051d5f1d"
      },
      "execution_count": 19,
      "outputs": [
        {
          "output_type": "stream",
          "name": "stdout",
          "text": [
            "A senha era: 2155 \n",
            "Quantidade de tentativas: 2156\n"
          ]
        }
      ]
    },
    {
      "cell_type": "markdown",
      "source": [
        "Função de custo: f(n, m) = n^m; ou nesse caso: f(10, 4) = 10^4 = 10000"
      ],
      "metadata": {
        "id": "Ktikm7emL-YG"
      }
    }
  ]
}