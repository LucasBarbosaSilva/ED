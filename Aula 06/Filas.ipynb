{
 "cells": [
  {
   "cell_type": "markdown",
   "metadata": {},
   "source": [
    "## Filas\n",
    "Primeiro a entrar é o primeiro a sair (LIFO)\n",
    "\n",
    "Exemplos: \n",
    "- Processos em um sistema operacional\n",
    "- Filas de banco\n",
    "- Filas de impressão\n",
    "- Fila de repasse em um roteador\n",
    "\n",
    "Operções:\n",
    "- Cria fila vazia\n",
    "- Enfilera\n",
    "- Desenfilera\n",
    "- Verifica se está vazia\n",
    "- Verifica se está cheia"
   ]
  },
  {
   "cell_type": "code",
   "execution_count": 6,
   "metadata": {},
   "outputs": [],
   "source": [
    "class Fila():\n",
    "    lista = None\n",
    "    inicio = None\n",
    "    fim = None\n",
    "    tamanho = None\n",
    "\n",
    "    def __init__(self, tamanho):\n",
    "        self.lista = [None]*tamanho\n",
    "        self.inicio = self.fim = 0\n",
    "        self.tamanho = tamanho\n",
    "\n",
    "    def estaVazia(self):\n",
    "        return self.inicio == self.fim\n",
    "\n",
    "    def estaCheia(self):\n",
    "        return (self.fim+1)%self.tamanho == self.inicio\n",
    "\n",
    "    def enfileirar(self, item):\n",
    "        if not self.estaCheia():\n",
    "            self.lista[self.fim] = item\n",
    "            self.fim = (self.fim+1)%self.tamanho\n",
    "            print(item, \"enfileirado\")\n",
    "        else:\n",
    "            print(\"Fila cheia\")\n",
    "            \n",
    "\n",
    "    def desenfileirar(self):\n",
    "        if not self.estaVazia():\n",
    "            item = self.lista[self.inicio]\n",
    "            self.inicio = (self.inicio+1)%self.tamanho\n",
    "            return item\n",
    "        else:\n",
    "            print(\"Fila vazia\")\n",
    "            return\n",
    "\n",
    "    def imprimir(self):\n",
    "        i = self.inicio\n",
    "        while i != self.fim:\n",
    "            print(self.lista[i])\n",
    "            i = (i+1)%self.tamanho\n",
    "            "
   ]
  },
  {
   "cell_type": "code",
   "execution_count": 7,
   "metadata": {},
   "outputs": [],
   "source": [
    "fila = Fila(10)"
   ]
  },
  {
   "cell_type": "code",
   "execution_count": 8,
   "metadata": {},
   "outputs": [
    {
     "name": "stdout",
     "output_type": "stream",
     "text": [
      "Lucas enfileirado\n",
      "Debora enfileirado\n"
     ]
    }
   ],
   "source": [
    "nome = 'a'\n",
    "while nome!= '':\n",
    "  nome = input('Digite nome: ')\n",
    "  if nome != '':\n",
    "    fila.enfileirar(nome)"
   ]
  },
  {
   "cell_type": "code",
   "execution_count": 33,
   "metadata": {},
   "outputs": [
    {
     "name": "stdout",
     "output_type": "stream",
     "text": [
      "Lucas\n",
      "Débora\n",
      "Claudia\n",
      "Helena\n",
      "Daniel\n",
      "Daniel\n",
      "Dayane\n",
      "Julia\n",
      "Marcelo\n"
     ]
    }
   ],
   "source": [
    "fila.imprimir()"
   ]
  },
  {
   "cell_type": "code",
   "execution_count": 34,
   "metadata": {},
   "outputs": [
    {
     "data": {
      "text/plain": [
       "10"
      ]
     },
     "execution_count": 34,
     "metadata": {},
     "output_type": "execute_result"
    }
   ],
   "source": [
    "fila.tamanho"
   ]
  },
  {
   "cell_type": "code",
   "execution_count": 40,
   "metadata": {},
   "outputs": [
    {
     "data": {
      "text/plain": [
       "(4, 9)"
      ]
     },
     "execution_count": 40,
     "metadata": {},
     "output_type": "execute_result"
    }
   ],
   "source": [
    "fila.inicio, fila.fim"
   ]
  },
  {
   "cell_type": "code",
   "execution_count": 55,
   "metadata": {},
   "outputs": [
    {
     "data": {
      "text/plain": [
       "'Marcos'"
      ]
     },
     "execution_count": 55,
     "metadata": {},
     "output_type": "execute_result"
    }
   ],
   "source": [
    "fila.desenfileirar()"
   ]
  },
  {
   "cell_type": "code",
   "execution_count": 54,
   "metadata": {},
   "outputs": [
    {
     "name": "stdout",
     "output_type": "stream",
     "text": [
      "Marcos\n"
     ]
    }
   ],
   "source": [
    "fila.imprimir()"
   ]
  },
  {
   "cell_type": "code",
   "execution_count": 53,
   "metadata": {},
   "outputs": [
    {
     "name": "stdout",
     "output_type": "stream",
     "text": [
      "Marcos enfileirado\n"
     ]
    }
   ],
   "source": [
    "fila.enfileirar(\"Marcos\")"
   ]
  },
  {
   "cell_type": "markdown",
   "metadata": {},
   "source": [
    "## Filas Encadeadas"
   ]
  },
  {
   "cell_type": "code",
   "execution_count": 28,
   "metadata": {},
   "outputs": [],
   "source": [
    "class Celula:\n",
    "    item = None\n",
    "    proximo = None\n",
    "\n",
    "    def __init__(self, item):\n",
    "        self.item = item"
   ]
  },
  {
   "cell_type": "code",
   "execution_count": 93,
   "metadata": {},
   "outputs": [],
   "source": [
    "class FilaEncadeada:\n",
    "    inicio = None\n",
    "    fim = None\n",
    "    tamanho = 0\n",
    "\n",
    "    def __init__(self):\n",
    "        self.inicio = Celula(None)\n",
    "        self.fim = self.inicio\n",
    "\n",
    "    def enfileirar(self, item):\n",
    "        aux = self.fim\n",
    "        aux.proximo = Celula(item)\n",
    "        self.fim = aux.proximo\n",
    "        self.tamanho +=1\n",
    "\n",
    "    def estaVazia(self):\n",
    "        return self.tamanho == 0\n",
    "\n",
    "    def desenfileirar(self):\n",
    "        if(not(self.estaVazia())):\n",
    "            atual = self.inicio\n",
    "            proximo = atual.proximo\n",
    "            self.inicio = proximo\n",
    "            self.tamanho -=1\n",
    "            if(self.tamanho == 0):\n",
    "                self.fim = self.inicio\n",
    "\n",
    "            return atual.item\n",
    "        else:\n",
    "            print(\"Fila vazia\")\n",
    "    \n",
    "    def imprimir(self):\n",
    "        aux = self.inicio.proximo\n",
    "        while aux != None:\n",
    "            print(aux.item)\n",
    "            aux = aux.proximo\n",
    "        print('---')\n"
   ]
  },
  {
   "cell_type": "code",
   "execution_count": 94,
   "metadata": {},
   "outputs": [],
   "source": [
    "filaEnc = FilaEncadeada()"
   ]
  },
  {
   "cell_type": "code",
   "execution_count": 98,
   "metadata": {},
   "outputs": [],
   "source": [
    "filaEnc.enfileirar(\"João\")"
   ]
  },
  {
   "cell_type": "code",
   "execution_count": 99,
   "metadata": {},
   "outputs": [
    {
     "name": "stdout",
     "output_type": "stream",
     "text": [
      "João\n",
      "---\n"
     ]
    }
   ],
   "source": [
    "filaEnc.imprimir()"
   ]
  },
  {
   "cell_type": "code",
   "execution_count": 100,
   "metadata": {},
   "outputs": [],
   "source": [
    "nome = filaEnc.desenfileirar()\n"
   ]
  },
  {
   "cell_type": "code",
   "execution_count": 101,
   "metadata": {},
   "outputs": [
    {
     "data": {
      "text/plain": [
       "'João'"
      ]
     },
     "execution_count": 101,
     "metadata": {},
     "output_type": "execute_result"
    }
   ],
   "source": [
    "nome"
   ]
  }
 ],
 "metadata": {
  "interpreter": {
   "hash": "1588a5ec7667da73cb7ddf1e244910aef61d01e108c87648b4f30d43bb6c169a"
  },
  "kernelspec": {
   "display_name": "Python 3.10.4 64-bit",
   "language": "python",
   "name": "python3"
  },
  "language_info": {
   "codemirror_mode": {
    "name": "ipython",
    "version": 3
   },
   "file_extension": ".py",
   "mimetype": "text/x-python",
   "name": "python",
   "nbconvert_exporter": "python",
   "pygments_lexer": "ipython3",
   "version": "3.10.4"
  },
  "orig_nbformat": 4
 },
 "nbformat": 4,
 "nbformat_minor": 2
}
