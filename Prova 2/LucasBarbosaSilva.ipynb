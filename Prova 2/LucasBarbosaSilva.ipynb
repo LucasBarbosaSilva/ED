{
 "cells": [
  {
   "cell_type": "markdown",
   "metadata": {},
   "source": [
    "1. Você está implementando um aplicativo de transporte que busca por motoristas baseado na localização do usuário. Assim, quando um usuário faz uma chamada por um carro, cada motorista disponível\n",
    "informa sua localização, o algoritmo calcula a distância do usuário para cada motorista e aloca o motorista mais próximo para atender ao chamado do usuário. Ao solicitar uma corrida o usuário envia\n",
    "sua posição (xu, yu) e cada motorista m, envia sua localização (xm, ym). Implemente uma função que\n",
    "recebe a posição do usuário e uma lista com as posições dos motoristas disponíveis, e retorna o motorista\n",
    "mais próximo. Essa função deve imprimir a lista ordenada das distâncias. Você deve usar um algoritmo\n",
    "eficiente para realizar a ordenação. A função de distância a ser utilizada é a distância Euclidiana:<br>\n",
    "D(u, m) = Raiz Quadrada((xu - xm)^2 + (yu - ym)^2)"
   ]
  },
  {
   "cell_type": "code",
   "execution_count": 2,
   "metadata": {},
   "outputs": [],
   "source": [
    "import math\n",
    "\n",
    "def calculaDistancia(posicaoPessoa, listaMotoristas):\n",
    "    listaDistancias = [None]*(len(listaMotoristas))\n",
    "    for i in range(len(listaDistancias)):\n",
    "        x = (u[0] - listaMotoristas[i][1])**2\n",
    "        y = (u[1] - listaMotoristas[i][2])**2\n",
    "        d = math.sqrt(x+y)\n",
    "        listaDistancias[i] = (listaMotoristas[i][0], d)\n",
    "    return listaDistancias\n",
    "#implementar usando o merge\n",
    "def ordenaLista(lista1, lista2):\n",
    "    listaOrdenada = [None]*(len(lista1)+len(lista2))\n",
    "    i = j = 0\n",
    "    for x in range(len(listaOrdenada)):\n",
    "        if(i >= len(lista1)):\n",
    "            listaOrdenada[x] = lista2[j]\n",
    "            j+=1\n",
    "        elif(j >= len(lista2)):\n",
    "            listaOrdenada[x] = lista1[i]\n",
    "            i+=1\n",
    "        elif(lista1[i][1]< lista2[j][1]):\n",
    "            listaOrdenada[x] = lista1[i]\n",
    "            i+=1\n",
    "        else:\n",
    "            listaOrdenada[x] = lista2[j]\n",
    "            j+=1\n",
    "    return listaOrdenada\n",
    "\n",
    "def divide(lista, ini, fim):\n",
    "    meio = (ini+fim)//2\n",
    "    if((fim-ini) == 1):\n",
    "        return lista[ini:fim]\n",
    "    else:\n",
    "        lista1 = divide(lista, ini, meio)\n",
    "        lista2 = divide(lista, meio, fim)\n",
    "        return ordenaLista(lista1, lista2)"
   ]
  },
  {
   "cell_type": "code",
   "execution_count": 4,
   "metadata": {},
   "outputs": [
    {
     "name": "stdout",
     "output_type": "stream",
     "text": [
      "O(a) motorista mais próximo é João\n",
      "Motoristas em ordem de distância:\n",
      "João - 14.14m\n",
      "Thiago - 22.36m\n",
      "Maria - 22.36m\n",
      "Cezar - 30.00m\n",
      "Cristofer - 53.85m\n"
     ]
    }
   ],
   "source": [
    "u = (10, 10)\n",
    "lista = [\n",
    "    (\"Maria\", 30, 20), \n",
    "    (\"Cezar\", 10, 40), \n",
    "    (\"Cristofer\", 30, 60),\n",
    "    (\"Thiago\", -10, 20),\n",
    "    (\"João\", 20, 20)\n",
    "    ]\n",
    "lista = calculaDistancia(u, lista)\n",
    "lista = (divide(lista, 0, len(lista)))\n",
    "print(\"O(a) motorista mais próximo é %s\" %lista[0][0])\n",
    "print(\"Motoristas em ordem de distância:\")\n",
    "for x in lista:\n",
    "    print(\"%s - %.2fm\" %(x[0], x[1]))"
   ]
  },
  {
   "cell_type": "markdown",
   "metadata": {},
   "source": [
    "2. Você está implementando uma agenda telefônica onde, a cada inserção de um novo contato, a\n",
    "lista é mantida ordenada. Seu programa deve ter uma função que recebe nome e telefone de vários\n",
    "contatos e a cada inserção de um contato, ele é inserido na ordem correta na lista de acordo com a ordem\n",
    "alfabética. A cada inserção, você deve imprimir a lista de contatos."
   ]
  },
  {
   "cell_type": "markdown",
   "metadata": {},
   "source": [
    "Vou utilizar a função de dividir para conquistar\n",
    "Utilizar tbm o merge sorte\n",
    "lista de tuplas novamente, só por ser mais fácil trabalhar com índices\n",
    "6\n",
    "     ij\n",
    "1 3 4 5\n"
   ]
  },
  {
   "cell_type": "code",
   "execution_count": 19,
   "metadata": {},
   "outputs": [],
   "source": [
    "def busca(lista, ini, fim, chave):\n",
    "    posicao = len(lista)\n",
    "    if(len(lista) == 0):\n",
    "        return 0\n",
    "    if(fim>ini):\n",
    "        meio = (ini+fim)//2\n",
    "        if(lista[meio][0] <= chave[0] and chave[0] < lista[meio+1][0]):\n",
    "            posicao = meio+1\n",
    "            return posicao\n",
    "        elif(lista[meio][0] < chave[0]):\n",
    "            return busca(lista, meio+1, fim, chave)\n",
    "        else:\n",
    "            return busca(lista, ini, meio, chave)\n",
    "    elif(chave[0] <= lista[0][0]):\n",
    "        posicao = 0\n",
    "        return posicao\n",
    "    else:\n",
    "        return posicao\n",
    "\n",
    "def insere(lista, chave):\n",
    "    p = busca(lista, 0, len(lista)-1, chave)\n",
    "    listaOrdenada = []\n",
    "    i= 0\n",
    "    while i < p:\n",
    "        listaOrdenada.append(lista[i])\n",
    "        i+=1\n",
    "    listaOrdenada.append(chave)\n",
    "    i = p\n",
    "    while i < len(lista):\n",
    "        listaOrdenada.append(lista[i])\n",
    "        i+=1\n",
    "    return listaOrdenada"
   ]
  },
  {
   "cell_type": "code",
   "execution_count": 20,
   "metadata": {},
   "outputs": [
    {
     "name": "stdout",
     "output_type": "stream",
     "text": [
      "[('Lucas', '34343')]\n",
      "[('Lucas', '34343'), ('Marta', '234234')]\n",
      "[('Ana', '1231231'), ('Lucas', '34343'), ('Marta', '234234')]\n",
      "[('Ana', '1231231'), ('Débora', '234234'), ('Lucas', '34343'), ('Marta', '234234')]\n",
      "[('Ana', '1231231'), ('Débora', '234234'), ('Lucas', '34343'), ('Marta', '234234'), ('Zaqueu', '234234')]\n"
     ]
    }
   ],
   "source": [
    "listaContatos = []\n",
    "resp = True\n",
    "while (resp):\n",
    "    nome = input(\"Digite o nome do contato que deseja inserir: \")\n",
    "    numero = input(\"Digite o número do contato que deseja inserir: \")\n",
    "    novoContato = (nome, numero)\n",
    "    listaContatos = insere(listaContatos, novoContato)\n",
    "    print(listaContatos)\n",
    "    resp = True if input(\"Deseja continuar?(s/n)\") == 's' else False\n"
   ]
  }
 ],
 "metadata": {
  "interpreter": {
   "hash": "d2dcc1bb071b41e4df6723b613c82aaaa58b6c428f696f218465ffe1058f9e55"
  },
  "kernelspec": {
   "display_name": "Python 3.10.4 64-bit",
   "language": "python",
   "name": "python3"
  },
  "language_info": {
   "codemirror_mode": {
    "name": "ipython",
    "version": 3
   },
   "file_extension": ".py",
   "mimetype": "text/x-python",
   "name": "python",
   "nbconvert_exporter": "python",
   "pygments_lexer": "ipython3",
   "version": "3.10.4"
  },
  "orig_nbformat": 4
 },
 "nbformat": 4,
 "nbformat_minor": 2
}
