{
 "cells": [
  {
   "cell_type": "markdown",
   "metadata": {},
   "source": [
    "# Algoritmos de Ordenação\n",
    "Vários algoritmos:\n",
    "- Insertion sort\n",
    "- Selection sort\n",
    "- Buble sort\n",
    "- Merge sort\n",
    "- Quick sort\n",
    "- Heap sort\n",
    "- Shell sort\n",
    "Entre outros\n",
    "\n",
    "2 tipos:\n",
    "- Métodos simples\n",
    "- Métodos eficientes\n",
    "\n",
    "#### Métodos simples:\n",
    "1. Selection Sort<br>\n",
    "Um dos mais simples.<br>\n",
    "Seleciona um item e coloca numa posição:<br>\n",
    "1.1 Selecione o menor item a partir da posição i.\n",
    "1.2 Troque o item de posição com o item na posição i."
   ]
  },
  {
   "cell_type": "code",
   "execution_count": 12,
   "metadata": {},
   "outputs": [],
   "source": [
    "def ordenaSelectionSort(lista):\n",
    "    for i in range(0, len(lista)-1):\n",
    "        menor = i\n",
    "        for j in range(i+1, len(lista)):\n",
    "            if(lista[menor] > lista[j]):\n",
    "                menor = j\n",
    "        aux = lista[i]\n",
    "        lista[i], lista[menor] = lista[menor], lista[i]\n",
    "    return lista"
   ]
  },
  {
   "cell_type": "code",
   "execution_count": 7,
   "metadata": {},
   "outputs": [],
   "source": [
    "listaInput = [3, 2, 56, 3, 4, 7, 6, 5, 89, 65, 43, 23, 1, 3, 7]"
   ]
  },
  {
   "cell_type": "code",
   "execution_count": 14,
   "metadata": {},
   "outputs": [
    {
     "name": "stdout",
     "output_type": "stream",
     "text": [
      "[1, 2, 3, 3, 3, 4, 5, 6, 7, 7, 23, 43, 56, 65, 89]\n"
     ]
    }
   ],
   "source": [
    "print(ordenaSelectionSort(listaInput))"
   ]
  },
  {
   "cell_type": "markdown",
   "metadata": {},
   "source": [
    "> Custo desse algorítimo: O(n^2) <br>\n",
    "O problema é que: <br>\n",
    "O pior caso, o melhor caso e o caso médio tem o mesmo custo."
   ]
  },
  {
   "cell_type": "markdown",
   "metadata": {},
   "source": [
    "2. Insertion Sort<br>\n",
    "Colocar o elemento na posição correta. <br>\n",
    "Compara com o elemento da posição anterior."
   ]
  },
  {
   "cell_type": "code",
   "execution_count": 33,
   "metadata": {},
   "outputs": [],
   "source": [
    "def insertionSort(lista):\n",
    "    for i in range(1, len(lista)):\n",
    "        j = i\n",
    "        while(j > 0 and lista[j] < lista[j-1]):\n",
    "            lista[j-1], lista[j] = lista[j], lista[j-1]\n",
    "            j-=1  \n",
    "    return lista          "
   ]
  },
  {
   "cell_type": "code",
   "execution_count": 34,
   "metadata": {},
   "outputs": [],
   "source": [
    "listaInput = [3, 2, 1]"
   ]
  },
  {
   "cell_type": "code",
   "execution_count": 35,
   "metadata": {},
   "outputs": [
    {
     "name": "stdout",
     "output_type": "stream",
     "text": [
      "[1, 2, 3]\n"
     ]
    }
   ],
   "source": [
    "print(insertionSort(listaInput))"
   ]
  },
  {
   "cell_type": "markdown",
   "metadata": {},
   "source": [
    "> Custo desse algorítimo: O(n^2) <br>\n",
    "No entanto: <br>\n",
    "No pior caso é n^2, mas no melhor caso seria só n."
   ]
  },
  {
   "cell_type": "markdown",
   "metadata": {},
   "source": [
    "3. Merge Sort\n",
    "Divide o problema em partes menores\n",
    "Utiliza a recursividade\n",
    "Caso base: quando chegar ao caso mais simples: um elemento na lista. Se só tem um elemento, ela tá ordenada. \n",
    "Pegar a lista e dividir ela em listas menores de um elemento apenas."
   ]
  },
  {
   "cell_type": "code",
   "execution_count": 23,
   "metadata": {},
   "outputs": [],
   "source": [
    "def merge(l1, l2):\n",
    "    lO = [None]*(len(l1)+len(l2))\n",
    "    i = j = 0\n",
    "    for c in range(len(lO)):\n",
    "        if(i >= len(l1)):\n",
    "            lO[c] = l1[j]\n",
    "            j+=1\n",
    "        elif(j >= len(l2)):\n",
    "            lO[c] = l1[i]\n",
    "            i+=1    \n",
    "        elif(l1[i] < l2[j]):\n",
    "            lO[c] = l1[i]\n",
    "            i+=1\n",
    "        else:\n",
    "            lO[c] = l2[j]\n",
    "            j+=1\n",
    "    return lO"
   ]
  },
  {
   "cell_type": "code",
   "execution_count": 26,
   "metadata": {},
   "outputs": [
    {
     "name": "stdout",
     "output_type": "stream",
     "text": [
      "[4, 5, 6, 6]\n"
     ]
    }
   ],
   "source": [
    "print(merge([4, 6], [5,9]))"
   ]
  },
  {
   "cell_type": "code",
   "execution_count": 24,
   "metadata": {},
   "outputs": [
    {
     "name": "stdout",
     "output_type": "stream",
     "text": [
      "[2, 4, 5, 6, 6, 7, 8]\n"
     ]
    }
   ],
   "source": [
    "print(merge([2, 7, 8], merge([4, 6], [5,9])))"
   ]
  },
  {
   "cell_type": "code",
   "execution_count": 25,
   "metadata": {},
   "outputs": [
    {
     "name": "stdout",
     "output_type": "stream",
     "text": [
      "[1, 2, 3, 4, 4, 5, 6, 7, 7, 8, 9, 10, 12, 12, 34]\n"
     ]
    }
   ],
   "source": [
    "lista1 = [1, 3, 4, 7, 12, 34]\n",
    "lista2 = [2, 4, 5, 6, 7, 8, 9, 10, 12]\n",
    "print(merge(lista1,lista2))"
   ]
  },
  {
   "cell_type": "code",
   "execution_count": 27,
   "metadata": {},
   "outputs": [],
   "source": [
    "def divide(lista):\n",
    "    if(len(lista) == 1):\n",
    "        return lista\n",
    "    else:\n",
    "        meio = len(lista) // 2\n",
    "        lista1 = divide(lista[:meio])\n",
    "        lista2 = divide(lista[meio:])\n",
    "        return merge(lista1, lista2)"
   ]
  },
  {
   "cell_type": "code",
   "execution_count": 29,
   "metadata": {},
   "outputs": [
    {
     "name": "stdout",
     "output_type": "stream",
     "text": [
      "[1, 2, 3, 3, 3, 4, 7, 7]\n"
     ]
    }
   ],
   "source": [
    "lista = [7, 2, 9, 4, 3, 8, 6, 1]\n",
    "print(divide(lista))"
   ]
  },
  {
   "cell_type": "markdown",
   "metadata": {},
   "source": [
    "4. Quick Sort\n",
    "Escolhe um pivô\n",
    "Escolhe um número de um lado, e outro número do outro.\n",
    "Cada um dos números é comparado com o pivô.\n",
    "enquanto i != j\n",
    "    i = 0\n",
    "    j = len(lista)\n",
    "    m = len(lista)//2 - 1\n",
    "    se (lista[i] > pivo and lista[j] < pivo):\n",
    "        lista[i], lista[j] = lista[j], lista[i]\n",
    "        i+=1\n",
    "        j+=1\n",
    "    se nao\n",
    "        se lista[i] <= pivo:\n",
    "            i += 1\n",
    "        se lista[j] >= pivo:\n",
    "            j -= 1\n",
    "0 7\n",
    "3, 8, 6, 7, 4, 1, 2, 9\n",
    "1 6\n",
    "3, 8, 6, 7, 4, 1, 2, 9\n",
    "3, 2, 6, 7, 4, 1, 8, 9\n",
    "2 5\n",
    "3, 2, 6, 7, 4, 1, 8, 9\n",
    "3, 2, 6, 7, 4, 1, 8, 9"
   ]
  },
  {
   "cell_type": "code",
   "execution_count": 14,
   "metadata": {},
   "outputs": [],
   "source": [
    "def quick(lista):\n",
    "    i = -1\n",
    "    j = len(lista)+1\n",
    "    m = len(lista)//2 - 1\n",
    "    while (i < j):\n",
    "        j-=1\n",
    "        while (lista[j] > lista[m]):\n",
    "            j -=1\n",
    "        i+=1\n",
    "        while (lista[i] < lista[m]):\n",
    "            i+=1\n",
    "        if(i < j):\n",
    "            lista[i], lista[j] = lista[j], lista[i]\n",
    "    return j"
   ]
  },
  {
   "cell_type": "code",
   "execution_count": 16,
   "metadata": {},
   "outputs": [
    {
     "name": "stdout",
     "output_type": "stream",
     "text": [
      "[3, 2, 6, 7, 4, 1, 8, 9]\n"
     ]
    }
   ],
   "source": [
    "print(quick([3, 8, 6, 7, 4, 1, 2, 9 ]))"
   ]
  },
  {
   "cell_type": "code",
   "execution_count": null,
   "metadata": {},
   "outputs": [],
   "source": []
  }
 ],
 "metadata": {
  "interpreter": {
   "hash": "e07d22968ff489a7f5a1444947d29b60e9d767cb9c29377e1b5658203cc19182"
  },
  "kernelspec": {
   "display_name": "Python 3.9.12 64-bit (windows store)",
   "language": "python",
   "name": "python3"
  },
  "language_info": {
   "codemirror_mode": {
    "name": "ipython",
    "version": 3
   },
   "file_extension": ".py",
   "mimetype": "text/x-python",
   "name": "python",
   "nbconvert_exporter": "python",
   "pygments_lexer": "ipython3",
   "version": "3.9.12"
  },
  "orig_nbformat": 4
 },
 "nbformat": 4,
 "nbformat_minor": 2
}
